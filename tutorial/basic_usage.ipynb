{
 "cells": [
  {
   "cell_type": "code",
   "execution_count": 7,
   "id": "733a7ced",
   "metadata": {},
   "outputs": [
    {
     "name": "stdout",
     "output_type": "stream",
     "text": [
      "The jupyter_tikz extension is already loaded. To reload it, use:\n",
      "  %reload_ext jupyter_tikz\n"
     ]
    }
   ],
   "source": [
    "%load_ext jupyter_tikz"
   ]
  },
  {
   "cell_type": "code",
   "execution_count": 8,
   "id": "cdbd3eb9",
   "metadata": {},
   "outputs": [],
   "source": [
    "import drawtree\n",
    "from IPython.display import display\n",
    "from IPython import get_ipython"
   ]
  },
  {
   "cell_type": "code",
   "execution_count": 9,
   "id": "e8c22aa0",
   "metadata": {},
   "outputs": [],
   "source": [
    "games = {\n",
    "    \"one_card_poker\": \"../games/one_card_poker.ef\",\n",
    "    \"crossing\": \"../games/crossing.ef\",\n",
    "    \"Figure1\": \"../games/Figure1.ef\",\n",
    "    \"MyTree1\": \"../games/MyTree1.ef\",\n",
    "    \"oldex\": \"../games/oldex.ef\",\n",
    "    \"x1\": \"../games/x1.ef\"\n",
    "}\n",
    "tikz_dict = {}\n",
    "for name, path in games.items():\n",
    "    tikz_dict[name] = drawtree.draw_tree(path, render_as=\"tikz\")"
   ]
  },
  {
   "cell_type": "markdown",
   "id": "3cd5b09e",
   "metadata": {},
   "source": [
    "# DrawTree: Modern API Examples\n",
    "\n",
    "This notebook demonstrates the new streamlined DrawTree API. The package generates complete TikZ code that can be rendered directly in Jupyter notebooks using the `jupyter_tikz` extension.\n",
    "\n",
    "## Key Benefits:\n",
    "- **Single function call**: `drawtree.draw_tree(game_file, render_as='tikz')`\n",
    "- **No temporary files**: Everything handled internally\n",
    "- **Complete TikZ output**: Includes all necessary macros and libraries\n",
    "- **Flexible rendering**: Works with `%%tikz` magic command"
   ]
  },
  {
   "cell_type": "code",
   "execution_count": 10,
   "id": "162e2935",
   "metadata": {},
   "outputs": [
    {
     "data": {
      "image/svg+xml": [
       "<svg xmlns=\"http://www.w3.org/2000/svg\" xmlns:xlink=\"http://www.w3.org/1999/xlink\" width=\"236.971pt\" height=\"17.407pt\" viewBox=\"0 0 236.971 17.407\">\n",
       "<defs>\n",
       "<clipPath id=\"clip-0\">\n",
       "<path clip-rule=\"nonzero\" d=\"M 14 0 L 233.054688 0 L 233.054688 16.832031 L 14 16.832031 Z M 14 0 \"/>\n",
       "</clipPath>\n",
       "</defs>\n",
       "<g clip-path=\"url(#clip-0)\">\n",
       "<path fill=\"none\" stroke-width=\"0.3985\" stroke-linecap=\"butt\" stroke-linejoin=\"miter\" stroke=\"rgb(0%, 0%, 0%)\" stroke-opacity=\"1\" stroke-miterlimit=\"10\" d=\"M -219.97243 -161.576966 C -224.666123 -161.576966 -228.475205 -165.386048 -228.475205 -170.079742 C -228.475205 -174.777475 -224.666123 -178.586556 -219.97243 -178.586556 L -17.008554 -178.586556 C -12.310821 -178.586556 -8.505778 -174.777475 -8.505778 -170.079742 C -8.505778 -165.386048 -12.310821 -161.576966 -17.008554 -161.576966 Z M -219.97243 -161.576966 \" transform=\"matrix(0.967056, 0, 0, -0.967056, 241.084935, -156.05859)\"/>\n",
       "</g>\n",
       "</svg>"
      ],
      "text/plain": [
       "<IPython.core.display.SVG object>"
      ]
     },
     "execution_count": 10,
     "metadata": {},
     "output_type": "execute_result"
    }
   ],
   "source": [
    "# Display using TikZ magic command\n",
    "get_ipython().run_cell_magic(\"tikz\", \"\", tikz_dict[\"one_card_poker\"])"
   ]
  },
  {
   "cell_type": "code",
   "execution_count": 11,
   "id": "6352f0de",
   "metadata": {},
   "outputs": [
    {
     "data": {
      "image/svg+xml": [
       "<svg xmlns=\"http://www.w3.org/2000/svg\" xmlns:xlink=\"http://www.w3.org/1999/xlink\" width=\"294.799pt\" height=\"130.792pt\" viewBox=\"0 0 294.799 130.792\">\n",
       "<defs>\n",
       "<clipPath id=\"clip-0\">\n",
       "<path clip-rule=\"nonzero\" d=\"M 11 51 L 266 51 L 266 130.585938 L 11 130.585938 Z M 11 51 \"/>\n",
       "</clipPath>\n",
       "<clipPath id=\"clip-1\">\n",
       "<path clip-rule=\"nonzero\" d=\"M 45 51 L 294.464844 51 L 294.464844 130.585938 L 45 130.585938 Z M 45 51 \"/>\n",
       "</clipPath>\n",
       "</defs>\n",
       "<g clip-path=\"url(#clip-0)\">\n",
       "<path fill=\"none\" stroke-width=\"0.3985\" stroke-linecap=\"butt\" stroke-linejoin=\"miter\" stroke=\"rgb(0%, 0%, 0%)\" stroke-opacity=\"1\" stroke-miterlimit=\"10\" d=\"M -130.396082 -104.883601 C -135.091037 -104.883601 -138.897862 -108.690427 -138.897862 -113.385382 C -138.897862 -118.084249 -135.091037 -121.891074 -130.396082 -121.891074 L -62.362278 -121.891074 C -61.388075 -121.891074 -60.413872 -121.722838 -59.494443 -121.394192 L 99.241971 -64.714352 C 103.663054 -63.133718 105.963581 -58.266615 104.382947 -53.84162 C 102.7984 -49.420538 97.931297 -47.12001 93.510214 -48.704557 L -63.837276 -104.883601 Z M -130.396082 -104.883601 \" transform=\"matrix(0.998412, 0, 0, -0.998412, 155.587479, 8.689181)\"/>\n",
       "</g>\n",
       "<g clip-path=\"url(#clip-1)\">\n",
       "<path fill=\"none\" stroke-width=\"0.3985\" stroke-linecap=\"butt\" stroke-linejoin=\"miter\" stroke=\"rgb(0%, 0%, 0%)\" stroke-opacity=\"1\" stroke-miterlimit=\"10\" d=\"M -96.377224 -48.188112 C -101.076091 -48.188112 -104.882916 -51.994938 -104.882916 -56.693805 C -104.882916 -61.388759 -101.076091 -65.199498 -96.377224 -65.199498 L -30.784796 -65.199498 L 57.855947 -120.588224 C 59.205746 -121.433316 60.770731 -121.879337 62.363103 -121.879337 L 130.396908 -121.891074 C 135.091862 -121.891074 138.898688 -118.084249 138.898688 -113.385382 C 138.898688 -108.690427 135.091862 -104.883601 130.396908 -104.883601 L 64.800567 -104.883601 L -23.840175 -49.494875 C -25.189975 -48.649783 -26.751047 -48.19985 -28.347332 -48.19985 Z M -96.377224 -48.188112 \" transform=\"matrix(0.998412, 0, 0, -0.998412, 155.587479, 8.689181)\"/>\n",
       "</g>\n",
       "<path fill=\"none\" stroke-width=\"0.3985\" stroke-linecap=\"butt\" stroke-linejoin=\"miter\" stroke=\"rgb(0%, 0%, 0%)\" stroke-opacity=\"1\" stroke-miterlimit=\"10\" d=\"M -0.00154352 8.503464 C -4.696498 8.503464 -8.503324 4.696639 -8.503324 0.00168417 C -8.503324 -4.697183 -4.696498 -8.504009 -0.00154352 -8.504009 L 11.336772 -8.504009 C 16.035639 -8.504009 19.842465 -4.697183 19.842465 0.00168417 C 19.842465 4.696639 16.035639 8.503464 11.336772 8.503464 Z M -0.00154352 8.503464 \" transform=\"matrix(0.998412, 0, 0, -0.998412, 155.587479, 8.689181)\"/>\n",
       "</svg>"
      ],
      "text/plain": [
       "<IPython.core.display.SVG object>"
      ]
     },
     "execution_count": 11,
     "metadata": {},
     "output_type": "execute_result"
    }
   ],
   "source": [
    "get_ipython().run_cell_magic(\"tikz\", \"\", tikz_dict[\"crossing\"])"
   ]
  },
  {
   "cell_type": "code",
   "execution_count": 12,
   "id": "2356d5af",
   "metadata": {},
   "outputs": [
    {
     "data": {
      "image/svg+xml": [
       "<svg xmlns=\"http://www.w3.org/2000/svg\" xmlns:xlink=\"http://www.w3.org/1999/xlink\" width=\"330.231pt\" height=\"130.792pt\" viewBox=\"0 0 330.231 130.792\">\n",
       "<defs>\n",
       "<clipPath id=\"clip-0\">\n",
       "<path clip-rule=\"nonzero\" d=\"M 153 107 L 329.464844 107 L 329.464844 130.535156 L 153 130.535156 Z M 153 107 \"/>\n",
       "</clipPath>\n",
       "<clipPath id=\"clip-1\">\n",
       "<path clip-rule=\"nonzero\" d=\"M 39 0.046875 L 221 0.046875 L 221 23 L 39 23 Z M 39 0.046875 \"/>\n",
       "</clipPath>\n",
       "</defs>\n",
       "<g clip-path=\"url(#clip-0)\">\n",
       "<path fill=\"none\" stroke-width=\"0.3985\" stroke-linecap=\"butt\" stroke-linejoin=\"miter\" stroke=\"rgb(0%, 0%, 0%)\" stroke-opacity=\"1\" stroke-miterlimit=\"10\" d=\"M 9.354778 -218.269812 C 4.656362 -218.269812 0.850646 -222.079444 0.850646 -226.773944 C 0.850646 -231.47236 4.656362 -235.278077 9.354778 -235.278077 L 162.425245 -235.278077 C 167.12366 -235.278077 170.929377 -231.47236 170.929377 -226.773944 C 170.929377 -222.079444 167.12366 -218.269812 162.425245 -218.269812 Z M 9.354778 -218.269812 \" transform=\"matrix(0.997677, 0, 0, -0.997677, 158.733362, -104.39162)\"/>\n",
       "</g>\n",
       "<g clip-path=\"url(#clip-1)\">\n",
       "<path fill=\"none\" stroke-width=\"0.3985\" stroke-linecap=\"butt\" stroke-linejoin=\"miter\" stroke=\"rgb(0%, 0%, 0%)\" stroke-opacity=\"1\" stroke-miterlimit=\"10\" d=\"M -105.165188 -104.881381 C -109.863604 -104.881381 -113.669321 -108.691013 -113.669321 -113.385513 C -113.669321 -118.083929 -109.863604 -121.889646 -105.165188 -121.889646 L 47.905278 -121.889646 C 52.603694 -121.889646 56.409411 -118.083929 56.409411 -113.385513 C 56.409411 -108.691013 52.603694 -104.881381 47.905278 -104.881381 Z M -105.165188 -104.881381 \" transform=\"matrix(0.997677, 0, 0, -0.997677, 158.733362, -104.39162)\"/>\n",
       "</g>\n",
       "<path fill=\"none\" stroke-width=\"0.3985\" stroke-linecap=\"butt\" stroke-linejoin=\"miter\" stroke=\"rgb(0%, 0%, 0%)\" stroke-opacity=\"1\" stroke-miterlimit=\"10\" d=\"M -133.798116 -161.575596 C -138.492617 -161.575596 -142.302249 -165.385229 -142.302249 -170.079729 C -142.302249 -174.778144 -138.492617 -178.583861 -133.798116 -178.583861 L -76.536176 -178.583861 C -71.83776 -178.583861 -68.032043 -174.778144 -68.032043 -170.079729 C -68.032043 -165.385229 -71.83776 -161.575596 -76.536176 -161.575596 Z M -133.798116 -161.575596 \" transform=\"matrix(0.997677, 0, 0, -0.997677, 158.733362, -104.39162)\"/>\n",
       "</svg>"
      ],
      "text/plain": [
       "<IPython.core.display.SVG object>"
      ]
     },
     "execution_count": 12,
     "metadata": {},
     "output_type": "execute_result"
    }
   ],
   "source": [
    "get_ipython().run_cell_magic(\"tikz\", \"\", tikz_dict[\"Figure1\"])"
   ]
  },
  {
   "cell_type": "code",
   "execution_count": 13,
   "id": "7c45b26c",
   "metadata": {},
   "outputs": [
    {
     "data": {
      "image/svg+xml": [
       "<svg xmlns=\"http://www.w3.org/2000/svg\" xmlns:xlink=\"http://www.w3.org/1999/xlink\" width=\"129.255pt\" height=\"17.407pt\" viewBox=\"0 0 129.255 17.407\">\n",
       "<defs>\n",
       "<clipPath id=\"clip-0\">\n",
       "<path clip-rule=\"nonzero\" d=\"M 12 0 L 126.765625 0 L 126.765625 16.832031 L 12 16.832031 Z M 12 0 \"/>\n",
       "</clipPath>\n",
       "</defs>\n",
       "<g clip-path=\"url(#clip-0)\">\n",
       "<path fill=\"none\" stroke-width=\"0.3985\" stroke-linecap=\"butt\" stroke-linejoin=\"miter\" stroke=\"rgb(0%, 0%, 0%)\" stroke-opacity=\"1\" stroke-miterlimit=\"10\" d=\"M 7.936024 -161.576966 C 3.238292 -161.576966 -0.566751 -165.386048 -0.566751 -170.079742 C -0.566751 -174.777475 3.238292 -178.586556 7.936024 -178.586556 L 103.183267 -178.586556 C 107.881 -178.586556 111.686042 -174.777475 111.686042 -170.079742 C 111.686042 -165.386048 107.881 -161.576966 103.183267 -161.576966 Z M 7.936024 -161.576966 \" transform=\"matrix(0.967056, 0, 0, -0.967056, 18.567611, -156.05859)\"/>\n",
       "</g>\n",
       "</svg>"
      ],
      "text/plain": [
       "<IPython.core.display.SVG object>"
      ]
     },
     "execution_count": 13,
     "metadata": {},
     "output_type": "execute_result"
    }
   ],
   "source": [
    "get_ipython().run_cell_magic(\"tikz\", \"\", tikz_dict[\"MyTree1\"])"
   ]
  },
  {
   "cell_type": "code",
   "execution_count": 14,
   "id": "a93ecd06",
   "metadata": {},
   "outputs": [
    {
     "data": {
      "image/svg+xml": [
       "<svg xmlns=\"http://www.w3.org/2000/svg\" xmlns:xlink=\"http://www.w3.org/1999/xlink\" width=\"76.531pt\" height=\"17.407pt\" viewBox=\"0 0 76.531 17.407\">\n",
       "<defs>\n",
       "<clipPath id=\"clip-0\">\n",
       "<path clip-rule=\"nonzero\" d=\"M 11 0 L 75.042969 0 L 75.042969 16.832031 L 11 16.832031 Z M 11 0 \"/>\n",
       "</clipPath>\n",
       "</defs>\n",
       "<g clip-path=\"url(#clip-0)\">\n",
       "<path fill=\"none\" stroke-width=\"0.3985\" stroke-linecap=\"butt\" stroke-linejoin=\"miter\" stroke=\"rgb(0%, 0%, 0%)\" stroke-opacity=\"1\" stroke-miterlimit=\"10\" d=\"M -42.519301 -104.883966 C -47.217033 -104.883966 -51.026115 -108.689009 -51.026115 -113.386742 C -51.026115 -118.084475 -47.217033 -121.889517 -42.519301 -121.889517 L -0.00138387 -121.889517 C 4.696349 -121.889517 8.505431 -118.084475 8.505431 -113.386742 C 8.505431 -108.689009 4.696349 -104.883966 -0.00138387 -104.883966 Z M -42.519301 -104.883966 \" transform=\"matrix(0.967056, 0, 0, -0.967056, 66.626338, -101.23331)\"/>\n",
       "</g>\n",
       "</svg>"
      ],
      "text/plain": [
       "<IPython.core.display.SVG object>"
      ]
     },
     "execution_count": 14,
     "metadata": {},
     "output_type": "execute_result"
    }
   ],
   "source": [
    "get_ipython().run_cell_magic(\"tikz\", \"\", tikz_dict[\"oldex\"])"
   ]
  },
  {
   "cell_type": "code",
   "execution_count": 15,
   "id": "d218453c",
   "metadata": {},
   "outputs": [
    {
     "data": {
      "image/svg+xml": [
       "<svg xmlns=\"http://www.w3.org/2000/svg\" xmlns:xlink=\"http://www.w3.org/1999/xlink\" width=\"127.554pt\" height=\"17.407pt\" viewBox=\"0 0 127.554 17.407\">\n",
       "<defs>\n",
       "<clipPath id=\"clip-0\">\n",
       "<path clip-rule=\"nonzero\" d=\"M 12 0 L 125.238281 0 L 125.238281 16.832031 L 12 16.832031 Z M 12 0 \"/>\n",
       "</clipPath>\n",
       "</defs>\n",
       "<g clip-path=\"url(#clip-0)\">\n",
       "<path fill=\"none\" stroke-width=\"0.3985\" stroke-linecap=\"butt\" stroke-linejoin=\"miter\" stroke=\"rgb(0%, 0%, 0%)\" stroke-opacity=\"1\" stroke-miterlimit=\"10\" d=\"M -85.039322 -104.883966 C -89.737055 -104.883966 -93.546137 -108.689009 -93.546137 -113.386742 C -93.546137 -118.084475 -89.737055 -121.889517 -85.039322 -121.889517 L 8.503326 -121.889517 C 13.201059 -121.889517 17.010141 -118.084475 17.010141 -113.386742 C 17.010141 -108.689009 13.201059 -104.883966 8.503326 -104.883966 Z M -85.039322 -104.883966 \" transform=\"matrix(0.967056, 0, 0, -0.967056, 108.597124, -101.23331)\"/>\n",
       "</g>\n",
       "</svg>"
      ],
      "text/plain": [
       "<IPython.core.display.SVG object>"
      ]
     },
     "execution_count": 15,
     "metadata": {},
     "output_type": "execute_result"
    }
   ],
   "source": [
    "get_ipython().run_cell_magic(\"tikz\", \"\", tikz_dict[\"x1\"])"
   ]
  }
 ],
 "metadata": {
  "kernelspec": {
   "display_name": "Python (draw_tree)",
   "language": "python",
   "name": "draw_tree"
  },
  "language_info": {
   "codemirror_mode": {
    "name": "ipython",
    "version": 3
   },
   "file_extension": ".py",
   "mimetype": "text/x-python",
   "name": "python",
   "nbconvert_exporter": "python",
   "pygments_lexer": "ipython3",
   "version": "3.13.7"
  }
 },
 "nbformat": 4,
 "nbformat_minor": 5
}
